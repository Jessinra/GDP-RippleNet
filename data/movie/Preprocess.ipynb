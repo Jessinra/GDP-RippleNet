{
 "cells": [
  {
   "cell_type": "markdown",
   "metadata": {},
   "source": [
    "# <b><i>Preprocess RippleNet Dataset</i></b>"
   ]
  },
  {
   "cell_type": "code",
   "execution_count": null,
   "metadata": {},
   "outputs": [],
   "source": [
    "import argparse\n",
    "import numpy as np\n",
    "from tqdm import tqdm"
   ]
  },
  {
   "cell_type": "code",
   "execution_count": null,
   "metadata": {},
   "outputs": [],
   "source": [
    "RATING_FILENAME = \"ratings_re2.csv\"\n",
    "ITEMS_FILENAME = \"moviesIdx2.txt\"\n",
    "TRIPLES_FILENAME = 'triples_idx2.txt'\n",
    "THRESHOLD = 4\n",
    "\n",
    "OUTPUT_RATING_FILENAME = 'ratings_final.txt'\n",
    "OUTPUT_KG_FILENAME = 'kg_final.txt'\n",
    "\n",
    "np.random.seed(5325)"
   ]
  },
  {
   "cell_type": "code",
   "execution_count": null,
   "metadata": {},
   "outputs": [],
   "source": [
    "def _read_item_set(items_filename):\n",
    "    items = open(items_filename, encoding='utf-8').readlines()\n",
    "    return set(range(len(items)))\n",
    "    \n",
    "def _read_ratings_groupby_user(rating_filename):\n",
    "    user_ratings = open(rating_filename, encoding='utf-8').readlines()\n",
    "    users_positive_items, users_negative_items = _split_ratings_groupby_user(user_ratings)\n",
    "    return users_positive_items, users_negative_items\n",
    "\n",
    "def _split_ratings_groupby_user(user_ratings):\n",
    "    \n",
    "    users_positive_items = dict()\n",
    "    users_negative_items = dict()\n",
    "\n",
    "    for line in tqdm(user_ratings):\n",
    "\n",
    "        array = line.strip().split(',')\n",
    "        user_index = int(array[0])\n",
    "        item_index = int(array[1])\n",
    "        rating = float(array[2])\n",
    "\n",
    "        dict_to_put = users_positive_items if rating >= THRESHOLD else users_negative_items\n",
    "        if user_index not in dict_to_put:\n",
    "            dict_to_put[user_index] = set()\n",
    "        dict_to_put[user_index].add(item_index)\n",
    "        \n",
    "    return users_positive_items, users_negative_items\n",
    "\n",
    "def _write_formatted_ratings(output_rating_filename, item_set, users_positive_items, users_negative_items):\n",
    "    \n",
    "    writer = open(output_rating_filename, 'w', encoding='utf-8')\n",
    "    for user_index, pos_item_set in tqdm(users_positive_items.items()):\n",
    "\n",
    "        # Write positive sample\n",
    "        for item in (pos_item_set):\n",
    "            writer.write(\"{}\\t{}\\t1\\n\".format(user_index, item))\n",
    "\n",
    "        # ! Negative sample using unwatched instead of negative rated movies !\n",
    "        unwatched_set = item_set - pos_item_set\n",
    "        if user_index in users_negative_items:\n",
    "            unwatched_set -= users_negative_items[user_index]\n",
    "\n",
    "        # Write negative sample (unwatched)\n",
    "        for item in (np.random.choice(list(unwatched_set), size=len(pos_item_set), replace=False)):\n",
    "            writer.write(\"{}\\t{}\\t0\\n\".format(user_index, item))\n",
    "            \n",
    "    writer.close()"
   ]
  },
  {
   "cell_type": "code",
   "execution_count": null,
   "metadata": {},
   "outputs": [],
   "source": [
    "def convert_rating():\n",
    "\n",
    "    print('reading item file ...')\n",
    "    item_set = _read_item_set(ITEMS_FILENAME)\n",
    "    \n",
    "    print('reading rating file ...')\n",
    "    users_positive_items, users_negative_items = _read_ratings_groupby_user(RATING_FILENAME)\n",
    "    \n",
    "    print('converting rating file ...')\n",
    "    _write_formatted_ratings(OUTPUT_RATING_FILENAME, item_set, users_positive_items, users_negative_items)\n",
    "    \n",
    "    print('converting rating file success !')"
   ]
  },
  {
   "cell_type": "code",
   "execution_count": null,
   "metadata": {},
   "outputs": [],
   "source": [
    "def convert_kg():\n",
    "    \n",
    "    with open(OUTPUT_KG_FILENAME, 'w', encoding='utf-8') as writer:\n",
    "        \n",
    "        raw_knowledge_graph = open(TRIPLES_FILENAME, encoding='utf-8')\n",
    "        for line in raw_knowledge_graph:\n",
    "            head, relation, tail = line.strip().split(' ')\n",
    "            writer.write(\"{}\\t{}\\t{}\\n\".format(head, relation, tail))\n",
    "            \n",
    "    print('converting kg file success !')"
   ]
  },
  {
   "cell_type": "markdown",
   "metadata": {},
   "source": [
    "## >> Run preprocess"
   ]
  },
  {
   "cell_type": "code",
   "execution_count": null,
   "metadata": {},
   "outputs": [],
   "source": [
    "convert_rating()\n",
    "convert_kg()"
   ]
  },
  {
   "cell_type": "markdown",
   "metadata": {},
   "source": [
    "---------------"
   ]
  }
 ],
 "metadata": {
  "kernelspec": {
   "display_name": "Python 3",
   "language": "python",
   "name": "python3"
  },
  "language_info": {
   "codemirror_mode": {
    "name": "ipython",
    "version": 3
   },
   "file_extension": ".py",
   "mimetype": "text/x-python",
   "name": "python",
   "nbconvert_exporter": "python",
   "pygments_lexer": "ipython3",
   "version": "3.6.8"
  }
 },
 "nbformat": 4,
 "nbformat_minor": 2
}
