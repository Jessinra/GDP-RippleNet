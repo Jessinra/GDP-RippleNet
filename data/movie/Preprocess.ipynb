{
 "cells": [
  {
   "cell_type": "code",
   "execution_count": 19,
   "metadata": {},
   "outputs": [],
   "source": [
    "import argparse\n",
    "import numpy as np\n",
    "from tqdm import tqdm\n",
    "\n",
    "RATING_FILE_NAME = dict({'movie': 'ratings_re2.csv', 'book': 'BX-Book-Ratings.csv', 'news': 'ratings.txt'})\n",
    "ITEMS_FILE_NAME = dict({'movie': 'moviesIdx2.txt'})\n",
    "SEP = dict({'movie': ',', 'book': ';', 'news': '\\t'})\n",
    "THRESHOLD = dict({'movie': 4, 'book': 0, 'news': 0})"
   ]
  },
  {
   "cell_type": "code",
   "execution_count": 20,
   "metadata": {},
   "outputs": [],
   "source": [
    "def convert_rating():\n",
    "\n",
    "    print('reading rating file ...')\n",
    "    items_filename = ITEMS_FILE_NAME[DATASET]\n",
    "    items = open(items_filename, encoding='utf-8').readlines()\n",
    "    item_set = set(range(len(items)))\n",
    "\n",
    "    user_pos_ratings = dict()\n",
    "    user_neg_ratings = dict()\n",
    "\n",
    "    file = RATING_FILE_NAME[DATASET]\n",
    "    for line in open(file, encoding='utf-8').readlines():\n",
    "\n",
    "        array = line.strip().split(SEP[DATASET])\n",
    "        user_index = int(array[0])\n",
    "        item_index = int(array[1])\n",
    "        rating = float(array[2])\n",
    "\n",
    "        # Separate positive & negative rated items\n",
    "        if rating >= THRESHOLD[DATASET]:\n",
    "            if user_index not in user_pos_ratings:\n",
    "                user_pos_ratings[user_index] = set()\n",
    "            user_pos_ratings[user_index].add(item_index)\n",
    "\n",
    "        else:\n",
    "            if user_index not in user_neg_ratings:\n",
    "                user_neg_ratings[user_index] = set()\n",
    "            user_neg_ratings[user_index].add(item_index)\n",
    "\n",
    "    print('reading rating file success !')\n",
    "    print('converting rating file ...')\n",
    "\n",
    "    # Output file\n",
    "    writer = open('ratings_final.txt', 'w', encoding='utf-8')\n",
    "    for user_index, pos_item_set in tqdm(user_pos_ratings.items()):\n",
    "\n",
    "        # Write positive sample\n",
    "        for item in (pos_item_set):\n",
    "            writer.write(\"{}\\t{}\\t1\\n\".format(user_index, item))\n",
    "\n",
    "        # ! Negative sample using unwatched instead of negative rated movies !\n",
    "        unwatched_set = item_set - pos_item_set\n",
    "        if user_index in user_neg_ratings:\n",
    "            unwatched_set -= user_neg_ratings[user_index]\n",
    "\n",
    "        # Write negative sample (unwatched)\n",
    "        for item in (np.random.choice(list(unwatched_set), size=len(pos_item_set), replace=False)):\n",
    "            writer.write(\"{}\\t{}\\t0\\n\".format(user_index, item))\n",
    "\n",
    "    writer.close()\n",
    "    print('converting rating file success !')"
   ]
  },
  {
   "cell_type": "code",
   "execution_count": 21,
   "metadata": {},
   "outputs": [],
   "source": [
    "def convert_kg():\n",
    "    print('converting kg file ...')\n",
    "\n",
    "    # Output file\n",
    "    writer = open('kg_final.txt', 'w', encoding='utf-8')\n",
    "\n",
    "    if DATASET == 'movie':\n",
    "        raw_knowledge_graph = open('triples_idx2.txt', encoding='utf-8')\n",
    "    else:\n",
    "        raw_knowledge_graph = open('kg_rehashed.txt', encoding='utf-8')\n",
    "\n",
    "    for line in raw_knowledge_graph:\n",
    "        head, relation, tail = line.strip().split(' ')\n",
    "        writer.write(\"{}\\t{}\\t{}\\n\".format(head, relation, tail))\n",
    "\n",
    "    writer.close()\n",
    "    print('converting kg file success !')"
   ]
  },
  {
   "cell_type": "code",
   "execution_count": 22,
   "metadata": {},
   "outputs": [],
   "source": [
    "np.random.seed(555)\n",
    "\n",
    "entity_id2index = dict()\n",
    "relation_id2index = dict()\n",
    "item_index_old2new = dict()"
   ]
  },
  {
   "cell_type": "code",
   "execution_count": 23,
   "metadata": {},
   "outputs": [
    {
     "name": "stdout",
     "output_type": "stream",
     "text": [
      "reading rating file ...\n"
     ]
    },
    {
     "name": "stderr",
     "output_type": "stream",
     "text": [
      "  0%|          | 12/138152 [00:00<2:34:25, 14.91it/s]"
     ]
    },
    {
     "name": "stdout",
     "output_type": "stream",
     "text": [
      "reading rating file success !\n",
      "converting rating file ...\n"
     ]
    },
    {
     "name": "stderr",
     "output_type": "stream",
     "text": [
      "100%|██████████| 138152/138152 [04:12<00:00, 546.76it/s]\n"
     ]
    },
    {
     "name": "stdout",
     "output_type": "stream",
     "text": [
      "converting rating file success !\n"
     ]
    }
   ],
   "source": [
    "convert_rating()"
   ]
  },
  {
   "cell_type": "code",
   "execution_count": 24,
   "metadata": {},
   "outputs": [
    {
     "name": "stdout",
     "output_type": "stream",
     "text": [
      "converting kg file ...\n",
      "converting kg file success !\n"
     ]
    }
   ],
   "source": [
    "convert_kg()"
   ]
  },
  {
   "cell_type": "code",
   "execution_count": null,
   "metadata": {},
   "outputs": [],
   "source": []
  }
 ],
 "metadata": {
  "kernelspec": {
   "display_name": "Python 3",
   "language": "python",
   "name": "python3"
  },
  "language_info": {
   "codemirror_mode": {
    "name": "ipython",
    "version": 3
   },
   "file_extension": ".py",
   "mimetype": "text/x-python",
   "name": "python",
   "nbconvert_exporter": "python",
   "pygments_lexer": "ipython3",
   "version": "3.5.2"
  }
 },
 "nbformat": 4,
 "nbformat_minor": 2
}
