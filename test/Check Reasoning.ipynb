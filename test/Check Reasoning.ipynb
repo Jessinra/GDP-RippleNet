{
 "cells": [
  {
   "cell_type": "markdown",
   "metadata": {},
   "source": [
    "# Check reasoning"
   ]
  },
  {
   "cell_type": "code",
   "execution_count": 1,
   "metadata": {},
   "outputs": [],
   "source": [
    "import pickle\n",
    "from tqdm import tqdm"
   ]
  },
  {
   "cell_type": "code",
   "execution_count": 2,
   "metadata": {},
   "outputs": [],
   "source": [
    "data_info = pickle.load(open(\"../data/movie/preprocessed_data_info_64\", 'rb'))\n",
    "entities = open(\"../data/movie/entities.txt\").readlines()\n",
    "movies = open(\"../data/movie/moviesIdx.txt\").readlines()"
   ]
  },
  {
   "cell_type": "code",
   "execution_count": 3,
   "metadata": {},
   "outputs": [],
   "source": [
    "ripple_set = data_info[5]\n",
    "\n",
    "dict_entities = {}\n",
    "for entity in entities:\n",
    "    x = entity.strip().split()\n",
    "    entity_id = x[0]\n",
    "    entity_name = x[1].replace('http://dbpedia.org/resource/', '').replace(\"_\", \" \")\n",
    "    \n",
    "    dict_entities[entity_id] = entity_name\n",
    "    \n",
    "for movie in movies:\n",
    "    x = movie.strip().split()\n",
    "    movie_id = x[0]\n",
    "    movie_name = x[1].replace('http://dbpedia.org/resource/', '').replace(\"_\", \" \")\n",
    "    \n",
    "    dict_entities[movie_id] = movie_name"
   ]
  },
  {
   "cell_type": "code",
   "execution_count": 4,
   "metadata": {},
   "outputs": [],
   "source": [
    "relations = {\"http://dbpedia.org/ontology/director\":0, \n",
    "            \"http://dbpedia.org/ontology/writer\":2, \n",
    "            \"http://dbpedia.org/ontology/starring\":4, \n",
    "            \"http://dbpedia.org/ontology/creator\":6, \n",
    "            \"http://dbpedia.org/ontology/subject\":8, \n",
    "            \"http://dbpedia.org/ontology/music_composer\":10, \n",
    "            \"http://dbpedia.org/ontology/country\":12, \n",
    "            \"http://dbpedia.org/ontology/story\":14, \n",
    "            \"http://dbpedia.org/ontology/studio\":16, \n",
    "            \"http://dbpedia.org/ontology/genre\":18, \n",
    "            \"http://dbpedia.org/ontology/spouse\":20, \n",
    "            \"http://dbpedia.org/ontology/relative\":21}\n",
    " \n",
    "for k, v in relations.items():\n",
    "    relation_id = str(v + 200000)\n",
    "    inv_relation_id = str(v + 200001)\n",
    "    \n",
    "    relation_name = k.replace('http://dbpedia.org/ontology/', '').replace(\"_\", \" \")\n",
    "    inv_relation_name = \"Inverse \" + relation_name\n",
    "    \n",
    "    dict_entities[relation_id] = relation_name\n",
    "    dict_entities[inv_relation_id] = inv_relation_name"
   ]
  },
  {
   "cell_type": "markdown",
   "metadata": {},
   "source": [
    "# Make String version"
   ]
  },
  {
   "cell_type": "code",
   "execution_count": 5,
   "metadata": {},
   "outputs": [
    {
     "name": "stderr",
     "output_type": "stream",
     "text": [
      "100%|██████████| 137588/137588 [00:58<00:00, 2338.58it/s]\n"
     ]
    }
   ],
   "source": [
    "s_ripple_set = []\n",
    "\n",
    "for user in tqdm(ripple_set):\n",
    "    \n",
    "    s_ripple_hop = []\n",
    "    for ripple_hop in ripple_set[user]:\n",
    "        heads, relations, tails = ripple_hop\n",
    "        \n",
    "        s_heads = [dict_entities[str(x)] for x in heads]\n",
    "        s_relations = [dict_entities[str(x)] for x in relations]\n",
    "        s_tails = [dict_entities[str(x)] for x in tails]\n",
    "                \n",
    "        s_ripple_hop.append([\"{} => {} => {}\".format(s_heads[i], s_relations[i], s_tails[i]) for i in range(0, len(heads))])\n",
    "    \n",
    "    s_ripple_set.append(s_ripple_hop)"
   ]
  },
  {
   "cell_type": "markdown",
   "metadata": {},
   "source": [
    "### Test the string version"
   ]
  },
  {
   "cell_type": "code",
   "execution_count": 6,
   "metadata": {},
   "outputs": [
    {
     "data": {
      "text/plain": [
       "[['12 Angry Men (1957 film) => director => Sidney Lumet',\n",
       "  'Reservoir Dogs => writer => Roger Avary',\n",
       "  'Black Narcissus => writer => Emeric Pressburger',\n",
       "  'Badlands (film) => starring => Warren Oates',\n",
       "  'Saturday Night Fever => music composer => David Shire',\n",
       "  'House of Games => genre => Crime',\n",
       "  'Anatomy of a Murder => starring => George C. Scott',\n",
       "  'Bullitt => genre => Action',\n",
       "  'To Kill a Mockingbird (film) => genre => Drama',\n",
       "  'Shane (film) => starring => Brandon deWilde',\n",
       "  'For a Few Dollars More => writer => Sergio Leone',\n",
       "  'Rashomon => genre => Crime',\n",
       "  'Assault on Precinct 13 (2005 film) => starring => Ja Rule',\n",
       "  'Dracula (1968 film) => starring => Bernard Archard',\n",
       "  'Saving Private Ryan => genre => War',\n",
       "  'Saturday Night Fever => genre => Romance',\n",
       "  'North by Northwest => starring => James Mason',\n",
       "  'Rashomon => director => Akira Kurosawa',\n",
       "  'Mary Poppins (film) => music composer => Robert B. Sherman',\n",
       "  'Fargo (film) => starring => Steve Buscemi',\n",
       "  'Frequency (film) => genre => Thriller',\n",
       "  'Escape from Alcatraz (film) => director => Don Siegel',\n",
       "  'Escape from Alcatraz (film) => genre => Drama',\n",
       "  'Assault on Precinct 13 (2005 film) => genre => Action',\n",
       "  'Marathon Man (film) => genre => Crime',\n",
       "  'Cabaret (upcoming film) => genre => Musical',\n",
       "  'Psycho (franchise) => director => Mick Garris',\n",
       "  'Woodstock (film) => genre => Musical',\n",
       "  'Psycho (franchise) => starring => Janet Leigh',\n",
       "  'Manufacturing Consent: Noam Chomsky and the Media => starring => Noam Chomsky',\n",
       "  'Dracula (1968 film) => genre => Romance',\n",
       "  'Marnie (film) => genre => Thriller',\n",
       "  'Guys and Dolls (film) => starring => Marlon Brando',\n",
       "  'Rear Window (1998 film) => writer => Eric Overmyer',\n",
       "  'Last Tango in Paris => starring => Jean-Pierre Léaud',\n",
       "  'North by Northwest => writer => Ernest Lehman',\n",
       "  'Fargo (film) => director => Coen brothers',\n",
       "  'House of Games => starring => Lindsay Crouse',\n",
       "  'Stand by Me (film) => starring => Wil Wheaton',\n",
       "  'Halloween (2007 film) => starring => William Forsythe (actor)',\n",
       "  'Point Break => director => Kathryn Bigelow',\n",
       "  'Saving Private Ryan => starring => Tom Sizemore',\n",
       "  'Apocalypse Now => genre => War',\n",
       "  'Goodfellas => director => Martin Scorsese',\n",
       "  'Marathon Man (film) => director => John Schlesinger',\n",
       "  'Dracula (1968 film) => starring => Joan Hickson',\n",
       "  'Marathon Man (film) => starring => William Devane',\n",
       "  'Psycho (franchise) => director => Richard Rothstein',\n",
       "  '12 Angry Men (1957 film) => genre => Crime',\n",
       "  'Stand by Me (film) => director => Rob Reiner',\n",
       "  'Cabaret (upcoming film) => starring => S. Sreesanth',\n",
       "  'Apocalypse Now => director => Francis Coppola',\n",
       "  'Marathon Man (film) => starring => Laurence Olivier',\n",
       "  'Mary Poppins (film) => starring => Dick Van Dyke',\n",
       "  'For a Few Dollars More => starring => Lee Van Cleef',\n",
       "  'For a Few Dollars More => music composer => Ennio Morricone',\n",
       "  'Predator (franchise) => director => Nimród Antal',\n",
       "  'Shane (film) => genre => Drama',\n",
       "  'Mary Poppins (film) => music composer => Irwin Kostal',\n",
       "  'On the Waterfront => starring => Rod Steiger',\n",
       "  'Fargo (film) => starring => Frances McDormand',\n",
       "  \"Anatomy of a Murder => starring => Arthur O'Connell\",\n",
       "  'Suspicion (1982 film) => genre => Thriller',\n",
       "  'Saturday Night Fever => starring => Karen Lynn Gorney'],\n",
       " [\"Drama => Inverse genre => Employees' Entrance\",\n",
       "  'Drama => Inverse genre => Trucker (film)',\n",
       "  'Thriller => Inverse genre => Alive (Meshuggah video)',\n",
       "  'Drama => Inverse genre => 10th & Wolf',\n",
       "  'Thriller => Inverse genre => Twisted Nerve',\n",
       "  'Drama => Inverse genre => Tatsumi (film)',\n",
       "  'Action => Inverse genre => Bionicle: Mask of Light',\n",
       "  'War => Inverse genre => Taking Chance',\n",
       "  'Drama => Inverse genre => Of Love and Shadows',\n",
       "  'Crime => Inverse genre => Shiner (2004 film)',\n",
       "  'Romance => Inverse genre => Love and Other Troubles',\n",
       "  'Drama => Inverse genre => Inherit the Wind (1999 film)',\n",
       "  'Thriller => Inverse genre => Witness for the Prosecution (1957 film)',\n",
       "  'Romance => Inverse genre => The Forbidden Room (2015 film)',\n",
       "  'Crime => Inverse genre => Shaft in Africa',\n",
       "  'Action => Inverse genre => Hercules and the Circle of Fire',\n",
       "  'Thriller => Inverse genre => They Live',\n",
       "  'Drama => Inverse genre => Morning Glory (2010 film)',\n",
       "  'Crime => Inverse genre => Nine Dead',\n",
       "  'Drama => Inverse genre => Body of Evidence (1993 film)',\n",
       "  'Crime => Inverse genre => Pineapple Express (film)',\n",
       "  \"Drama => Inverse genre => Charlie's Country\",\n",
       "  'Drama => Inverse genre => Almost Famous',\n",
       "  'Drama => Inverse genre => Mickey One',\n",
       "  'Romance => Inverse genre => Casanova (1934 film)',\n",
       "  'Romance => Inverse genre => Edward Scissorhands (dance)',\n",
       "  'Drama => Inverse genre => Perfect Stranger (film)',\n",
       "  'Drama => Inverse genre => The Living Idol',\n",
       "  'Action => Inverse genre => Along Came a Spider (film)',\n",
       "  'Drama => Inverse genre => Papillon (upcoming film)',\n",
       "  'Thriller => Inverse genre => Triple Agent',\n",
       "  'Musical => Inverse genre => On Moonlight Bay (film)',\n",
       "  'Romance => Inverse genre => Trader Horn (1931 film)',\n",
       "  'Action => Inverse genre => Zatoichi on the Road',\n",
       "  'Drama => Inverse genre => Gloria (1931 film)',\n",
       "  'Thriller => Inverse genre => Foreign Correspondent (film)',\n",
       "  'Drama => Inverse genre => Millennium Actress',\n",
       "  'Drama => Inverse genre => Higher Ground (film)',\n",
       "  'Crime => Inverse genre => The Feathered Serpent (1948 film)',\n",
       "  'Drama => Inverse genre => Agony (film)',\n",
       "  \"Crime => Inverse genre => What's the Matter with Helen%3F\",\n",
       "  'Crime => Inverse genre => Duplex (film)',\n",
       "  'Action => Inverse genre => Gallowwalkers',\n",
       "  'Drama => Inverse genre => Bordertown (2006 film)',\n",
       "  'Drama => Inverse genre => Fast Food Nation (film)',\n",
       "  'Romance => Inverse genre => Barcelona (film)',\n",
       "  'Romance => Inverse genre => My Girl 2',\n",
       "  'Drama => Inverse genre => Raging Bull',\n",
       "  'Crime => Inverse genre => Nothing to Lose (2002 film)',\n",
       "  \"Drama => Inverse genre => She's So Lovely\",\n",
       "  'Drama => Inverse genre => Hard Luck (1921 film)',\n",
       "  'Musical => Inverse genre => God Help the Girl (film)',\n",
       "  'Thriller => Inverse genre => Mimic (film)',\n",
       "  'Drama => Inverse genre => Raajneeti',\n",
       "  'Drama => Inverse genre => Gregory Crewdson: Brief Encounters',\n",
       "  'Romance => Inverse genre => Two Arabian Knights',\n",
       "  'Drama => Inverse genre => Twin Falls Idaho (film)',\n",
       "  'Thriller => Inverse genre => Universal Soldier: Day of Reckoning',\n",
       "  'Crime => Inverse genre => 22 Jump Street',\n",
       "  'Thriller => Inverse genre => Dead Silence (1997 film)',\n",
       "  'Drama => Inverse genre => Adoration (2013 film)',\n",
       "  'Musical => Inverse genre => You Got Served',\n",
       "  'Crime => Inverse genre => Heartbreakers (2001 film)',\n",
       "  'Drama => Inverse genre => Last Exit to Brooklyn (film)']]"
      ]
     },
     "execution_count": 6,
     "metadata": {},
     "output_type": "execute_result"
    }
   ],
   "source": [
    "sample_user = 6006\n",
    "\n",
    "s_ripple_set[sample_user]"
   ]
  },
  {
   "cell_type": "markdown",
   "metadata": {},
   "source": [
    "# Make Inference"
   ]
  },
  {
   "cell_type": "code",
   "execution_count": 7,
   "metadata": {},
   "outputs": [],
   "source": [
    "def intersection(lst1, lst2): \n",
    "  \n",
    "    # Use of hybrid method \n",
    "    temp = set(lst2) \n",
    "    lst3 = [value for value in lst1 if value in temp] \n",
    "    return list(set(lst3)) "
   ]
  },
  {
   "cell_type": "code",
   "execution_count": 8,
   "metadata": {},
   "outputs": [
    {
     "name": "stderr",
     "output_type": "stream",
     "text": [
      "100%|██████████| 137588/137588 [00:16<00:00, 8527.32it/s]\n"
     ]
    }
   ],
   "source": [
    "inferenced_ripple_set = []\n",
    "for user in tqdm(ripple_set):\n",
    "    \n",
    "    try:\n",
    "        ripple_hop_0 = ripple_set[user][0]\n",
    "        ripple_hop_1 = ripple_set[user][1]\n",
    "    except:\n",
    "        continue\n",
    "        \n",
    "    intersect_t0_h1 = intersection(ripple_hop_0[2], ripple_hop_1[0])\n",
    "    intersect_path = []\n",
    "    for entity in intersect_t0_h1:\n",
    "        \n",
    "        # Check head 0\n",
    "        hop_0_tails = ripple_hop_0[2]\n",
    "        hop_1_heads = ripple_hop_1[0]\n",
    "        \n",
    "        for i in range(0, len(hop_0_tails)):\n",
    "            if entity == hop_0_tails[i]:\n",
    "                \n",
    "                h0 = ripple_hop_0[0][i]\n",
    "                r0 = ripple_hop_0[1][i]\n",
    "                t0 = ripple_hop_0[2][i] \n",
    "                break\n",
    "        \n",
    "        # Check tail 1\n",
    "        for i in range(0, len(hop_1_heads)):\n",
    "            if entity == hop_1_heads[i]:\n",
    "                \n",
    "                h1 = ripple_hop_1[0][i]\n",
    "                r1 = ripple_hop_1[1][i]\n",
    "                t1 = ripple_hop_1[2][i]  \n",
    "                break\n",
    "        \n",
    "        path = (h0, r0, h1, r1, t1)\n",
    "        path_s = \" => \".join([dict_entities[str(x)] for x in path])\n",
    "        intersect_path.append((path, path_s))\n",
    "        \n",
    "    inferenced_ripple_set.append(intersect_path)            "
   ]
  },
  {
   "cell_type": "markdown",
   "metadata": {},
   "source": [
    "### Test the inferenced path"
   ]
  },
  {
   "cell_type": "code",
   "execution_count": 9,
   "metadata": {},
   "outputs": [
    {
     "data": {
      "text/plain": [
       "[((6394, 200018, 15459, 200019, 11834),\n",
       "  'House of Games => genre => Crime => Inverse genre => Shiner (2004 film)'),\n",
       " ((13891, 200018, 15460, 200019, 4368),\n",
       "  \"To Kill a Mockingbird (film) => genre => Drama => Inverse genre => Employees' Entrance\"),\n",
       " ((11468, 200018, 15493, 200019, 8221),\n",
       "  'Saturday Night Fever => genre => Romance => Inverse genre => Love and Other Troubles'),\n",
       " ((2257, 200018, 15471, 200019, 1669),\n",
       "  'Bullitt => genre => Action => Inverse genre => Bionicle: Mask of Light'),\n",
       " ((5167, 200018, 15472, 200019, 550),\n",
       "  'Frequency (film) => genre => Thriller => Inverse genre => Alive (Meshuggah video)'),\n",
       " ((11494, 200018, 15473, 200019, 12957),\n",
       "  'Saving Private Ryan => genre => War => Inverse genre => Taking Chance'),\n",
       " ((2329, 200018, 15857, 200019, 9781),\n",
       "  'Cabaret (upcoming film) => genre => Musical => Inverse genre => On Moonlight Bay (film)')]"
      ]
     },
     "execution_count": 9,
     "metadata": {},
     "output_type": "execute_result"
    }
   ],
   "source": [
    "sample_user = 6006\n",
    "\n",
    "inferenced_ripple_set[sample_user]"
   ]
  },
  {
   "cell_type": "code",
   "execution_count": null,
   "metadata": {},
   "outputs": [],
   "source": []
  }
 ],
 "metadata": {
  "kernelspec": {
   "display_name": "Python 3",
   "language": "python",
   "name": "python3"
  },
  "language_info": {
   "codemirror_mode": {
    "name": "ipython",
    "version": 3
   },
   "file_extension": ".py",
   "mimetype": "text/x-python",
   "name": "python",
   "nbconvert_exporter": "python",
   "pygments_lexer": "ipython3",
   "version": "3.5.2"
  }
 },
 "nbformat": 4,
 "nbformat_minor": 2
}
