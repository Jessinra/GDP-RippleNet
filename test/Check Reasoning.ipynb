{
 "cells": [
  {
   "cell_type": "markdown",
   "metadata": {},
   "source": [
    "# Check reasoning"
   ]
  },
  {
   "cell_type": "code",
   "execution_count": 1,
   "metadata": {},
   "outputs": [],
   "source": [
    "import pickle\n",
    "from tqdm import tqdm"
   ]
  },
  {
   "cell_type": "code",
   "execution_count": 2,
   "metadata": {},
   "outputs": [],
   "source": [
    "data_info = pickle.load(open(\"../data/movie/preprocessed_data_info_64\", 'rb'))\n",
    "entities = open(\"../data/movie/entities.txt\").readlines()\n",
    "movies = open(\"../data/movie/moviesIdx.txt\").readlines()"
   ]
  },
  {
   "cell_type": "code",
   "execution_count": 3,
   "metadata": {},
   "outputs": [],
   "source": [
    "ripple_set = data_info[5]\n",
    "\n",
    "dict_entities = {}\n",
    "for entity in entities:\n",
    "    x = entity.strip().split()\n",
    "    entity_id = x[0]\n",
    "    entity_name = x[1].replace('http://dbpedia.org/resource/', '').replace(\"_\", \" \")\n",
    "    \n",
    "    dict_entities[entity_id] = entity_name\n",
    "    \n",
    "for movie in movies:\n",
    "    x = movie.strip().split()\n",
    "    movie_id = x[0]\n",
    "    movie_name = x[1].replace('http://dbpedia.org/resource/', '').replace(\"_\", \" \")\n",
    "    \n",
    "    dict_entities[movie_id] = movie_name"
   ]
  },
  {
   "cell_type": "code",
   "execution_count": 4,
   "metadata": {},
   "outputs": [],
   "source": [
    "relations = {\"http://dbpedia.org/ontology/director\":0, \n",
    "            \"http://dbpedia.org/ontology/writer\":2, \n",
    "            \"http://dbpedia.org/ontology/starring\":4, \n",
    "            \"http://dbpedia.org/ontology/creator\":6, \n",
    "            \"http://dbpedia.org/ontology/subject\":8, \n",
    "            \"http://dbpedia.org/ontology/music_composer\":10, \n",
    "            \"http://dbpedia.org/ontology/country\":12, \n",
    "            \"http://dbpedia.org/ontology/story\":14, \n",
    "            \"http://dbpedia.org/ontology/studio\":16, \n",
    "            \"http://dbpedia.org/ontology/genre\":18, \n",
    "            \"http://dbpedia.org/ontology/spouse\":20, \n",
    "            \"http://dbpedia.org/ontology/relative\":21}\n",
    " \n",
    "for k, v in relations.items():\n",
    "    relation_id = str(v + 200000)\n",
    "    inv_relation_id = str(v + 200001)\n",
    "    \n",
    "    relation_name = k.replace('http://dbpedia.org/ontology/', '').replace(\"_\", \" \")\n",
    "    inv_relation_name = \"Inverse \" + relation_name\n",
    "    \n",
    "    dict_entities[relation_id] = relation_name\n",
    "    dict_entities[inv_relation_id] = inv_relation_name"
   ]
  },
  {
   "cell_type": "markdown",
   "metadata": {},
   "source": [
    "# Make String version"
   ]
  },
  {
   "cell_type": "code",
   "execution_count": 5,
   "metadata": {},
   "outputs": [
    {
     "name": "stderr",
     "output_type": "stream",
     "text": [
      "100%|██████████| 137588/137588 [00:54<00:00, 2514.07it/s]\n"
     ]
    }
   ],
   "source": [
    "s_ripple_set = []\n",
    "\n",
    "for user in tqdm(ripple_set):\n",
    "    \n",
    "    s_ripple_hop = []\n",
    "    for ripple_hop in ripple_set[user]:\n",
    "        heads, relations, tails = ripple_hop\n",
    "        \n",
    "        s_heads = [dict_entities[str(x)] for x in heads]\n",
    "        s_relations = [dict_entities[str(x)] for x in relations]\n",
    "        s_tails = [dict_entities[str(x)] for x in tails]\n",
    "                \n",
    "        s_ripple_hop.append([\"{} => {} => {}\".format(s_heads[i], s_relations[i], s_tails[i]) for i in range(0, len(heads))])\n",
    "    \n",
    "    s_ripple_set.append(s_ripple_hop)"
   ]
  },
  {
   "cell_type": "markdown",
   "metadata": {},
   "source": [
    "# Make Inference"
   ]
  },
  {
   "cell_type": "code",
   "execution_count": 6,
   "metadata": {},
   "outputs": [],
   "source": [
    "def intersection(lst1, lst2): \n",
    "  \n",
    "    # Use of hybrid method \n",
    "    temp = set(lst2) \n",
    "    lst3 = [value for value in lst1 if value in temp] \n",
    "    return list(set(lst3)) "
   ]
  },
  {
   "cell_type": "code",
   "execution_count": 7,
   "metadata": {},
   "outputs": [
    {
     "name": "stderr",
     "output_type": "stream",
     "text": [
      "100%|██████████| 137588/137588 [00:15<00:00, 8679.98it/s]\n"
     ]
    }
   ],
   "source": [
    "inferenced_ripple_set = []\n",
    "for user in tqdm(ripple_set):\n",
    "    \n",
    "    try:\n",
    "        ripple_hop_0 = ripple_set[user][0]\n",
    "        ripple_hop_1 = ripple_set[user][1]\n",
    "    except:\n",
    "        continue\n",
    "        \n",
    "    intersect_t0_h1 = intersection(ripple_hop_0[2], ripple_hop_1[0])\n",
    "    intersect_path = []\n",
    "    for entity in intersect_t0_h1:\n",
    "        \n",
    "        # Check head 0\n",
    "        hop_0_tails = ripple_hop_0[2]\n",
    "        hop_1_heads = ripple_hop_1[0]\n",
    "        \n",
    "        for i in range(0, len(hop_0_tails)):\n",
    "            if entity == hop_0_tails[i]:\n",
    "                \n",
    "                h0 = ripple_hop_0[0][i]\n",
    "                r0 = ripple_hop_0[1][i]\n",
    "                t0 = ripple_hop_0[2][i] \n",
    "                break\n",
    "        \n",
    "        # Check tail 1\n",
    "        for i in range(0, len(hop_1_heads)):\n",
    "            if entity == hop_1_heads[i]:\n",
    "                \n",
    "                h1 = ripple_hop_1[0][i]\n",
    "                r1 = ripple_hop_1[1][i]\n",
    "                t1 = ripple_hop_1[2][i]  \n",
    "                break\n",
    "        \n",
    "        path = (h0, r0, h1, r1, t1)\n",
    "        path_s = \" => \".join([dict_entities[str(x)] for x in path])\n",
    "        intersect_path.append((path, path_s))\n",
    "        \n",
    "    inferenced_ripple_set.append(intersect_path)            "
   ]
  },
  {
   "cell_type": "markdown",
   "metadata": {},
   "source": [
    "# Make history dict"
   ]
  },
  {
   "cell_type": "markdown",
   "metadata": {},
   "source": [
    "ratings = open(\"../data/movie/ratings_re.csv\", encoding=\"utf-8\").readlines()"
   ]
  },
  {
   "cell_type": "markdown",
   "metadata": {},
   "source": [
    "threshold = 4\n",
    "user_preference_history = {}\n",
    "\n",
    "for line in tqdm(ratings):\n",
    "    user, movie_id, rating = line.strip().split(\",\")[:3]\n",
    "    \n",
    "    if int(user) not in user_preference_history:\n",
    "        user_preference_history[int(user)] = []\n",
    "    \n",
    "    if float(rating) >= threshold:\n",
    "        user_preference_history[int(user)].append(dict_entities[str(movie_id)])"
   ]
  },
  {
   "cell_type": "markdown",
   "metadata": {},
   "source": [
    "ratings = open(\"../data/movie/ratings_final.txt\", encoding=\"utf-8\").readlines()"
   ]
  },
  {
   "cell_type": "markdown",
   "metadata": {},
   "source": [
    "user_preference_history = {}\n",
    "\n",
    "for line in tqdm(ratings):\n",
    "    user, movie_id, rating = line.strip().split(\"\\t\")\n",
    "    \n",
    "    if int(user) not in user_preference_history:\n",
    "        user_preference_history[int(user)] = []\n",
    "    \n",
    "    if float(rating) == 1:\n",
    "        user_preference_history[int(user)].append(dict_entities[str(movie_id)])"
   ]
  },
  {
   "cell_type": "code",
   "execution_count": 8,
   "metadata": {},
   "outputs": [],
   "source": [
    "import numpy as np"
   ]
  },
  {
   "cell_type": "code",
   "execution_count": 9,
   "metadata": {},
   "outputs": [],
   "source": [
    "train_data = data_info[0]\n",
    "eval_data = data_info[1]\n",
    "test_data = data_info[2]\n",
    "\n",
    "history = np.concatenate((train_data, eval_data, test_data))"
   ]
  },
  {
   "cell_type": "code",
   "execution_count": 10,
   "metadata": {},
   "outputs": [
    {
     "name": "stderr",
     "output_type": "stream",
     "text": [
      "100%|██████████| 13724776/13724776 [00:36<00:00, 379167.21it/s]\n"
     ]
    }
   ],
   "source": [
    "user_preference_history = {}\n",
    "\n",
    "for line in tqdm(history):\n",
    "    user, movie_id, rating = line\n",
    "    \n",
    "    if int(user) not in user_preference_history:\n",
    "        user_preference_history[int(user)] = []\n",
    "    \n",
    "    if float(rating) == 1:\n",
    "        user_preference_history[int(user)].append(dict_entities[str(movie_id)])"
   ]
  },
  {
   "cell_type": "markdown",
   "metadata": {},
   "source": [
    "# Test"
   ]
  },
  {
   "cell_type": "code",
   "execution_count": 11,
   "metadata": {},
   "outputs": [],
   "source": [
    "sample_user = 1"
   ]
  },
  {
   "cell_type": "markdown",
   "metadata": {},
   "source": [
    "### Test the string version"
   ]
  },
  {
   "cell_type": "code",
   "execution_count": 12,
   "metadata": {
    "scrolled": false
   },
   "outputs": [
    {
     "data": {
      "text/plain": [
       "['Abbott and Costello Meet Frankenstein => director => Charles Barton (director)',\n",
       " 'Abbott and Costello Meet Frankenstein => genre => Comedy',\n",
       " 'Abbott and Costello Meet Frankenstein => genre => Horror',\n",
       " 'Abbott and Costello Meet Frankenstein => starring => Béla Lugosi',\n",
       " 'Abbott and Costello Meet Frankenstein => starring => Glenn Strange',\n",
       " 'Abbott and Costello Meet Frankenstein => starring => Lon Chaney, Jr.',\n",
       " 'Abbott and Costello Meet Frankenstein => starring => Lou Costello',\n",
       " 'Abbott and Costello Meet Frankenstein => writer => John Grant (screenwriter)',\n",
       " 'Alien (film) => genre => Sci-Fi',\n",
       " 'Back to the Future => genre => Adventure',\n",
       " 'Back to the Future => genre => Comedy',\n",
       " 'Blade Runner => genre => Action',\n",
       " 'Blade Runner => genre => Thriller',\n",
       " 'Boogie Nights => music composer => Michael Penn',\n",
       " 'Boogie Nights => starring => Burt Reynolds',\n",
       " 'Boogie Nights => starring => Nicole Ari Parker',\n",
       " 'Boogie Nights => starring => William H. Macy',\n",
       " 'Dark City (1998 film) => genre => Mystery',\n",
       " 'Dark City (1998 film) => starring => Jennifer Connelly',\n",
       " 'Dark City (1998 film) => writer => David S. Goyer',\n",
       " 'Fantastic Voyage => starring => Stephen Boyd',\n",
       " 'Friday the 13th (2009 film) => starring => Aaron Yoo',\n",
       " 'Friday the 13th (2009 film) => starring => Amanda Righetti',\n",
       " 'Friday the 13th (2009 film) => starring => Danielle Panabaker',\n",
       " 'Friday the 13th (2009 film) => starring => Derek Mears',\n",
       " 'Friday the 13th (2009 film) => starring => Jared Padalecki',\n",
       " 'Grumpy Old Men (film) => director => Donald Petrie',\n",
       " 'Grumpy Old Men (film) => music composer => Alan Silvestri',\n",
       " 'Grumpy Old Men (film) => starring => Kevin Pollak',\n",
       " 'Grumpy Old Men (film) => writer => Mark Steven Johnson',\n",
       " 'Hellraiser => genre => Horror',\n",
       " 'Hellraiser => starring => Andrew Robinson (actor)',\n",
       " 'Hellraiser => starring => Clare Higgins',\n",
       " 'Legends of the Fall => genre => Drama',\n",
       " 'Legends of the Fall => genre => Romance',\n",
       " 'Legends of the Fall => genre => War',\n",
       " 'Legends of the Fall => music composer => James Horner',\n",
       " 'North by Northwest => genre => Adventure',\n",
       " 'North by Northwest => genre => Romance',\n",
       " 'North by Northwest => genre => Thriller',\n",
       " 'North by Northwest => music composer => Bernard Herrmann',\n",
       " 'North by Northwest => starring => Cary Grant',\n",
       " 'Rules of Engagement (film) => director => William Friedkin',\n",
       " 'Rules of Engagement (film) => genre => Drama',\n",
       " 'Rules of Engagement (film) => music composer => Mark Isham',\n",
       " 'Rules of Engagement (film) => writer => Stephen Gaghan',\n",
       " 'Runaway (2010 film) => director => Kanye West',\n",
       " 'Runaway (2010 film) => genre => Comedy',\n",
       " 'Runaway (2010 film) => music composer => Kanye West',\n",
       " 'Runaway (2010 film) => starring => Selita Ebanks',\n",
       " 'Star Trek: First Contact => director => Jonathan Frakes',\n",
       " 'Star Trek: First Contact => genre => Action',\n",
       " 'Star Trek: First Contact => genre => Sci-Fi',\n",
       " 'Star Trek: First Contact => genre => Thriller',\n",
       " 'Star Trek: First Contact => music composer => Jerry Goldsmith',\n",
       " 'Star Trek: First Contact => starring => LeVar Burton',\n",
       " 'Star Trek: First Contact => starring => Marina Sirtis',\n",
       " 'Star Trek: First Contact => starring => Patrick Stewart',\n",
       " 'Star Trek: First Contact => writer => Brannon Braga',\n",
       " 'U-571 (film) => genre => War',\n",
       " 'U-571 (film) => starring => Matthew McConaughey',\n",
       " 'U-571 (film) => starring => Thomas Kretschmann',\n",
       " 'U-571 (film) => writer => David Ayer',\n",
       " 'U-571 (film) => writer => Jonathan Mostow']"
      ]
     },
     "execution_count": 12,
     "metadata": {},
     "output_type": "execute_result"
    }
   ],
   "source": [
    "sorted(s_ripple_set[sample_user][0])"
   ]
  },
  {
   "cell_type": "markdown",
   "metadata": {},
   "source": [
    "## User history"
   ]
  },
  {
   "cell_type": "code",
   "execution_count": 18,
   "metadata": {
    "scrolled": false
   },
   "outputs": [
    {
     "data": {
      "text/plain": [
       "['2001: A Space Odyssey (film)',\n",
       " 'Abbott and Costello Meet Frankenstein',\n",
       " 'Alien (film)',\n",
       " 'Any Given Sunday',\n",
       " 'Back to the Future',\n",
       " 'Blade Runner',\n",
       " 'Boogie Nights',\n",
       " 'Braveheart (1925 film)',\n",
       " 'Dark City (1998 film)',\n",
       " 'Fantastic Voyage',\n",
       " 'Friday the 13th (2009 film)',\n",
       " 'From Russia with Love (film)',\n",
       " 'Grumpier Old Men',\n",
       " 'Grumpy Old Men (film)',\n",
       " 'Hellraiser',\n",
       " 'Jurassic Park (film)',\n",
       " 'Legends of the Fall',\n",
       " 'Men in Black (film series)',\n",
       " \"Mr. Holland's Opus\",\n",
       " 'North by Northwest',\n",
       " 'Return of the Fly',\n",
       " 'Rules of Engagement (film)',\n",
       " 'Runaway (2010 film)',\n",
       " 'Stand by Me (film)',\n",
       " 'Star Trek: First Contact',\n",
       " 'Terminator 2: Judgment Day',\n",
       " 'U-571 (film)',\n",
       " 'Voyage to the Bottom of the Sea']"
      ]
     },
     "execution_count": 18,
     "metadata": {},
     "output_type": "execute_result"
    }
   ],
   "source": [
    "sorted(user_preference_history[sample_user + 1])"
   ]
  },
  {
   "cell_type": "markdown",
   "metadata": {},
   "source": [
    "### Test the inferenced path"
   ]
  },
  {
   "cell_type": "code",
   "execution_count": 14,
   "metadata": {
    "scrolled": true
   },
   "outputs": [
    {
     "data": {
      "text/plain": [
       "[((11317, 200018, 15458, 200019, 8341),\n",
       "  'Runaway (2010 film) => genre => Comedy => Inverse genre => Made (2001 film)'),\n",
       " ((7815, 200018, 15460, 200019, 1516),\n",
       "  'Legends of the Fall => genre => Drama => Inverse genre => Besieged (film)'),\n",
       " ((9620, 200018, 15493, 200019, 13423),\n",
       "  'North by Northwest => genre => Romance => Inverse genre => The Last Five Years (film)'),\n",
       " ((9620, 200018, 15529, 200019, 15095),\n",
       "  'North by Northwest => genre => Adventure => Inverse genre => Wings in the Dark'),\n",
       " ((6092, 200018, 15534, 200019, 10365),\n",
       "  'Hellraiser => genre => Horror => Inverse genre => Piranha II: The Spawning'),\n",
       " ((3436, 200018, 15662, 200019, 3312),\n",
       "  'Dark City (1998 film) => genre => Mystery => Inverse genre => Cry Wolf (2005 film)'),\n",
       " ((12451, 200018, 15472, 200019, 12728),\n",
       "  'Star Trek: First Contact => genre => Thriller => Inverse genre => Suicide Kings'),\n",
       " ((12451, 200018, 15471, 200019, 10390),\n",
       "  'Star Trek: First Contact => genre => Action => Inverse genre => Planet of the Apes (2001 film)'),\n",
       " ((534, 200018, 15505, 200019, 10389),\n",
       "  'Alien (film) => genre => Sci-Fi => Inverse genre => Planet of Dinosaurs')]"
      ]
     },
     "execution_count": 14,
     "metadata": {},
     "output_type": "execute_result"
    }
   ],
   "source": [
    "inferenced_ripple_set[sample_user]"
   ]
  },
  {
   "cell_type": "markdown",
   "metadata": {},
   "source": [
    "for i in tqdm(range(1, 10000)):\n",
    "    \n",
    "    try:\n",
    "        user_ripple_0 = s_ripple_set[i][0]\n",
    "        kg_history = [x.split(\" => \")[0] for x in user_ripple_0]\n",
    "    except:\n",
    "        kg_history = []\n",
    "    \n",
    "    try:\n",
    "        user_history = user_preference_history[i+1]\n",
    "    except:\n",
    "        user_history = []\n",
    "    \n",
    "    print(intersection(kg_history, user_history))\n",
    "    "
   ]
  },
  {
   "cell_type": "code",
   "execution_count": null,
   "metadata": {},
   "outputs": [],
   "source": []
  }
 ],
 "metadata": {
  "kernelspec": {
   "display_name": "Python 3",
   "language": "python",
   "name": "python3"
  },
  "language_info": {
   "codemirror_mode": {
    "name": "ipython",
    "version": 3
   },
   "file_extension": ".py",
   "mimetype": "text/x-python",
   "name": "python",
   "nbconvert_exporter": "python",
   "pygments_lexer": "ipython3",
   "version": "3.5.2"
  }
 },
 "nbformat": 4,
 "nbformat_minor": 2
}
