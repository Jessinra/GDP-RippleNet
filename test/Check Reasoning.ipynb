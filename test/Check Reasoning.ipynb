{
 "cells": [
  {
   "cell_type": "markdown",
   "metadata": {},
   "source": [
    "# Check reasoning"
   ]
  },
  {
   "cell_type": "code",
   "execution_count": 1,
   "metadata": {},
   "outputs": [],
   "source": [
    "import pickle\n",
    "from tqdm import tqdm"
   ]
  },
  {
   "cell_type": "code",
   "execution_count": 2,
   "metadata": {},
   "outputs": [],
   "source": [
    "data_info = pickle.load(open(\"../data/movie/preprocessed_data_info_32\", 'rb'))\n",
    "entities = open(\"../data/movie/entities2.txt\").readlines()\n",
    "movies = open(\"../data/movie/moviesIdx2.txt\").readlines()"
   ]
  },
  {
   "cell_type": "code",
   "execution_count": 3,
   "metadata": {},
   "outputs": [],
   "source": [
    "ripple_set = data_info[5]\n",
    "\n",
    "dict_entities = {}\n",
    "for entity in entities:\n",
    "    x = entity.strip().split()\n",
    "    entity_id = x[0]\n",
    "    entity_name = x[1].replace('http://dbpedia.org/resource/', '').replace(\"_\", \" \")\n",
    "    \n",
    "    dict_entities[entity_id] = entity_name\n",
    "    \n",
    "for movie in movies:\n",
    "    x = movie.strip().split()\n",
    "    movie_id = x[0]\n",
    "    movie_name = x[1].replace('http://dbpedia.org/resource/', '').replace(\"_\", \" \")\n",
    "    \n",
    "    dict_entities[movie_id] = movie_name"
   ]
  },
  {
   "cell_type": "code",
   "execution_count": null,
   "metadata": {},
   "outputs": [],
   "source": []
  },
  {
   "cell_type": "code",
   "execution_count": 6,
   "metadata": {},
   "outputs": [],
   "source": [
    "relations = {\"http://dbpedia.org/ontology/director\":0,\n",
    "            \"http://dbpedia.org/ontology/writer\":2,\n",
    "            \"http://dbpedia.org/ontology/starring\":4,\n",
    "            \"http://dbpedia.org/ontology/creator\":6,\n",
    "            \"http://purl.org/dc/terms/subject\":8,\n",
    "            \"http://dbpedia.org/ontology/musicComposer\":10,\n",
    "            \"http://dbpedia.org/ontology/country\":12,\n",
    "            \"http://dbpedia.org/property/story\":14,\n",
    "            \"http://dbpedia.org/property/studio\":16,\n",
    "            \"http://dbpedia.org/ontology/genre\":18,\n",
    "            \"http://dbpedia.org/ontology/cinematography\":20,\n",
    "            \"http://dbpedia.org/ontology/distributor\":22,\n",
    "            \"http://dbpedia.org/ontology/spouse\":24,\n",
    "            \"http://dbpedia.org/ontology/relative\":25}\n",
    " \n",
    "for k, v in relations.items():\n",
    "    relation_id = str(v + 200000)\n",
    "    inv_relation_id = str(v + 200001)\n",
    "    \n",
    "    relation_name = k.split('/')[-1]\n",
    "    \n",
    "#     relation_name = k.replace('http://dbpedia.org/ontology/', '').replace(\"_\", \" \")\n",
    "    inv_relation_name = \"Inverse \" + relation_name\n",
    "    \n",
    "    dict_entities[relation_id] = relation_name\n",
    "    dict_entities[inv_relation_id] = inv_relation_name"
   ]
  },
  {
   "cell_type": "markdown",
   "metadata": {},
   "source": [
    "# Make String version"
   ]
  },
  {
   "cell_type": "code",
   "execution_count": 95,
   "metadata": {},
   "outputs": [
    {
     "name": "stderr",
     "output_type": "stream",
     "text": [
      "100%|██████████| 137589/137589 [00:24<00:00, 5527.22it/s]\n"
     ]
    }
   ],
   "source": [
    "s_ripple_set = {}\n",
    "\n",
    "for user in tqdm(ripple_set):\n",
    "    \n",
    "    s_ripple_hop = []\n",
    "    for ripple_hop in ripple_set[user]:\n",
    "        heads, relations, tails = ripple_hop\n",
    "        \n",
    "        s_heads = [dict_entities[str(int(x))] for x in heads]\n",
    "        s_relations = [dict_entities[str(int(x))] for x in relations]\n",
    "        s_tails = [dict_entities[str(int(x))] for x in tails]\n",
    "                \n",
    "        s_ripple_hop.append([\"{} => {} => {}\".format(s_heads[i], s_relations[i], s_tails[i]) for i in range(0, len(heads))])\n",
    "    \n",
    "    s_ripple_set[(int(user))] = s_ripple_hop"
   ]
  },
  {
   "cell_type": "markdown",
   "metadata": {},
   "source": [
    "# Make Inference"
   ]
  },
  {
   "cell_type": "code",
   "execution_count": 96,
   "metadata": {},
   "outputs": [],
   "source": [
    "def intersection(lst1, lst2): \n",
    "  \n",
    "    # Use of hybrid method \n",
    "    temp = set(lst2) \n",
    "    lst3 = [value for value in lst1 if value in temp] \n",
    "    return list(set(lst3)) "
   ]
  },
  {
   "cell_type": "code",
   "execution_count": 97,
   "metadata": {},
   "outputs": [
    {
     "name": "stderr",
     "output_type": "stream",
     "text": [
      "100%|██████████| 137589/137589 [00:12<00:00, 11371.92it/s]\n"
     ]
    }
   ],
   "source": [
    "inferenced_ripple_set = {}\n",
    "for user in tqdm(ripple_set):\n",
    "    \n",
    "    try:\n",
    "        ripple_hop_0 = ripple_set[user][0]\n",
    "        ripple_hop_1 = ripple_set[user][1]\n",
    "    except:\n",
    "        continue\n",
    "        \n",
    "    intersect_t0_h1 = intersection(ripple_hop_0[2], ripple_hop_1[0])\n",
    "    intersect_path = []\n",
    "    for entity in intersect_t0_h1:\n",
    "        \n",
    "        # Check head 0\n",
    "        hop_0_tails = ripple_hop_0[2]\n",
    "        hop_1_heads = ripple_hop_1[0]\n",
    "        \n",
    "        for i in range(0, len(hop_0_tails)):\n",
    "            if entity == hop_0_tails[i]:\n",
    "                \n",
    "                h0 = ripple_hop_0[0][i]\n",
    "                r0 = ripple_hop_0[1][i]\n",
    "                t0 = ripple_hop_0[2][i] \n",
    "                break\n",
    "        \n",
    "        # Check tail 1\n",
    "        for i in range(0, len(hop_1_heads)):\n",
    "            if entity == hop_1_heads[i]:\n",
    "                \n",
    "                h1 = ripple_hop_1[0][i]\n",
    "                r1 = ripple_hop_1[1][i]\n",
    "                t1 = ripple_hop_1[2][i]  \n",
    "                break\n",
    "        \n",
    "        path = (h0, r0, h1, r1, t1)\n",
    "        path_s = \" => \".join([dict_entities[str(int(x))] for x in path])\n",
    "        intersect_path.append((path, path_s))\n",
    "        \n",
    "    inferenced_ripple_set[int(user)] = intersect_path        "
   ]
  },
  {
   "cell_type": "markdown",
   "metadata": {},
   "source": [
    "# Make history dict"
   ]
  },
  {
   "cell_type": "markdown",
   "metadata": {},
   "source": [
    "ratings = open(\"../data/movie/ratings_re.csv\", encoding=\"utf-8\").readlines()"
   ]
  },
  {
   "cell_type": "markdown",
   "metadata": {},
   "source": [
    "threshold = 4\n",
    "user_preference_history = {}\n",
    "\n",
    "for line in tqdm(ratings):\n",
    "    user, movie_id, rating = line.strip().split(\",\")[:3]\n",
    "    \n",
    "    if int(user) not in user_preference_history:\n",
    "        user_preference_history[int(user)] = []\n",
    "    \n",
    "    if float(rating) >= threshold:\n",
    "        user_preference_history[int(user)].append(dict_entities[str(movie_id)])"
   ]
  },
  {
   "cell_type": "markdown",
   "metadata": {},
   "source": [
    "ratings = open(\"../data/movie/ratings_final.txt\", encoding=\"utf-8\").readlines()"
   ]
  },
  {
   "cell_type": "markdown",
   "metadata": {},
   "source": [
    "user_preference_history = {}\n",
    "\n",
    "for line in tqdm(ratings):\n",
    "    user, movie_id, rating = line.strip().split(\"\\t\")\n",
    "    \n",
    "    if int(user) not in user_preference_history:\n",
    "        user_preference_history[int(user)] = []\n",
    "    \n",
    "    if float(rating) == 1:\n",
    "        user_preference_history[int(user)].append(dict_entities[str(movie_id)])"
   ]
  },
  {
   "cell_type": "code",
   "execution_count": 14,
   "metadata": {},
   "outputs": [],
   "source": [
    "import numpy as np"
   ]
  },
  {
   "cell_type": "code",
   "execution_count": 15,
   "metadata": {},
   "outputs": [],
   "source": [
    "train_data = data_info[0]\n",
    "eval_data = data_info[1]\n",
    "test_data = data_info[2]\n",
    "\n",
    "history = np.concatenate((train_data, eval_data, test_data))"
   ]
  },
  {
   "cell_type": "code",
   "execution_count": 98,
   "metadata": {},
   "outputs": [
    {
     "name": "stderr",
     "output_type": "stream",
     "text": [
      "100%|██████████| 13724776/13724776 [00:40<00:00, 336751.84it/s]\n"
     ]
    }
   ],
   "source": [
    "user_preference_history = {}\n",
    "user_hate_history = {}\n",
    "\n",
    "for line in tqdm(history):\n",
    "    user, movie_id, rating = line\n",
    "    \n",
    "    if int(user) not in user_preference_history:\n",
    "        user_preference_history[int(user)] = []\n",
    "        user_hate_history[int(user)] = []\n",
    "    \n",
    "    if float(rating) == 1:\n",
    "        user_preference_history[int(user)].append(dict_entities[str(int(movie_id))])\n",
    "    else:\n",
    "        user_hate_history[int(user)].append(dict_entities[str(int(movie_id))])"
   ]
  },
  {
   "cell_type": "markdown",
   "metadata": {},
   "source": [
    "# Test"
   ]
  },
  {
   "cell_type": "code",
   "execution_count": 102,
   "metadata": {},
   "outputs": [],
   "source": [
    "def test_reasoning(sample_user):\n",
    "    \n",
    "    string_ver = sorted(s_ripple_set[sample_user][0])\n",
    "    hist = sorted(user_preference_history[sample_user])\n",
    "    hate = sorted(user_hate_history[sample_user])\n",
    "    inference = inferenced_ripple_set[sample_user]\n",
    "    \n",
    "    print(\"===== STRING VERSION =====\")\n",
    "    for x in string_ver:\n",
    "        print(x)\n",
    "    print(\"\\n===== USER HISTORY =====\")\n",
    "    for x in hist:\n",
    "        print(x)\n",
    "#     print(\"\\n-- HATED --\")\n",
    "#     for x in hate:\n",
    "#         print(x)\n",
    "    print(\"\\n===== INFERENCE =====\")\n",
    "    for x in inference:\n",
    "        print(x)"
   ]
  },
  {
   "cell_type": "code",
   "execution_count": 104,
   "metadata": {
    "scrolled": false
   },
   "outputs": [
    {
     "name": "stdout",
     "output_type": "stream",
     "text": [
      "===== STRING VERSION =====\n",
      "Ace Ventura: When Nature Calls => genre => Comedy\n",
      "Ace Ventura: When Nature Calls => starring => Maynard Eziashi\n",
      "Ace Ventura: When Nature Calls => subject => Category:American sequel films\n",
      "Ace Ventura: When Nature Calls => subject => Category:Films directed by Steve Oedekerk\n",
      "Apollo 13 (film) => starring => Bill Paxton\n",
      "Apollo 13 (film) => starring => Ed Harris\n",
      "Apollo 13 (film) => subject => Category:American aviation films\n",
      "Apollo 13 (film) => subject => Category:Films directed by Ron Howard\n",
      "Babe (film) => genre => Children\n",
      "Babe (film) => starring => James Cromwell\n",
      "Babe (film) => subject => Category:Films featuring anthropomorphic characters\n",
      "Cliffhanger (film) => distributor => TriStar Pictures\n",
      "Clueless (film) => subject => Category:American buddy films\n",
      "Clueless (film) => subject => Category:American romantic comedy films\n",
      "Clueless (film) => subject => Category:Screenplays by Amy Heckerling\n",
      "Crimson Tide (film) => distributor => Walt Disney Studios Motion Pictures\n",
      "Crimson Tide (film) => starring => George Dzundza\n",
      "Crimson Tide (film) => subject => Category:Submarine films\n",
      "Dances with Wolves => genre => Drama\n",
      "Dances with Wolves => subject => Category:Films based on Western (genre) novels\n",
      "Dances with Wolves => subject => Category:Films shot in Kansas\n",
      "Dances with Wolves => subject => Category:Films shot in South Dakota\n",
      "Ghost (2012 film) => genre => Fantasy\n",
      "Ghost (2012 film) => subject => Category:2010s Hindi-language films\n",
      "Mrs. Doubtfire => subject => Category:Cross-dressing in film\n",
      "Mrs. Doubtfire => subject => Category:Legal films\n",
      "Outbreak (novel) => genre => Sci-Fi\n",
      "Pulp Fiction => subject => Category:Nonlinear narrative films\n",
      "Pulp Fiction => subject => Category:Palme d'Or winners\n",
      "Sleepless in Seattle => subject => Category:Films set in Chicago\n",
      "Speed (serial) => subject => Category:1922 films\n",
      "Speed (serial) => subject => Category:American films\n",
      "\n",
      "===== USER HISTORY =====\n",
      "Ace Ventura: When Nature Calls\n",
      "Addams Family Values\n",
      "Apollo 13 (film)\n",
      "Babe (film)\n",
      "Clear and Present Danger (film)\n",
      "Cliffhanger (film)\n",
      "Clueless (film)\n",
      "Crimson Tide (film)\n",
      "Dances with Wolves\n",
      "Disclosure (film)\n",
      "Forrest Gump\n",
      "Ghost (2012 film)\n",
      "Home Alone (franchise)\n",
      "Mrs. Doubtfire\n",
      "Outbreak (novel)\n",
      "Pretty Woman\n",
      "Pulp Fiction\n",
      "Schindler's List\n",
      "Seven (1995 film)\n",
      "Sleepless in Seattle\n",
      "Speed (serial)\n",
      "Terminator 2: Judgment Day\n",
      "Waterworld\n",
      "\n",
      "===== INFERENCE =====\n",
      "((10659, 200008, 15968, 200009, 13240), 'Pulp Fiction => subject => Category:Nonlinear narrative films => Inverse subject => The Call of the Wild (2007 film)')\n",
      "((10002, 200018, 15585, 200019, 7159), 'Outbreak (novel) => genre => Sci-Fi => Inverse genre => Jetsons: The Movie')\n",
      "((2903, 200022, 17317, 200023, 3777), 'Cliffhanger (film) => distributor => TriStar Pictures => Inverse distributor => Devil in a Blue Dress (film)')\n",
      "((12342, 200008, 15463, 200009, 14994), 'Speed (serial) => subject => Category:American films => Inverse subject => Who Is Killing the Great Chefs of Europe%3F')\n",
      "((1125, 200008, 15783, 200009, 12366), 'Babe (film) => subject => Category:Films featuring anthropomorphic characters => Inverse subject => Spirit: Stallion of the Cimarron')\n",
      "((2942, 200008, 15689, 200009, 2797), 'Clueless (film) => subject => Category:American romantic comedy films => Inverse subject => Christmas in July (film)')\n",
      "((9104, 200008, 20751, 200009, 602), \"Mrs. Doubtfire => subject => Category:Cross-dressing in film => Inverse subject => All the Queen's Men\")\n",
      "((5425, 200018, 15573, 200019, 7191), 'Ghost (2012 film) => genre => Fantasy => Inverse genre => Joey (1997 film)')\n",
      "((341, 200018, 15481, 200019, 6741), 'Ace Ventura: When Nature Calls => genre => Comedy => Inverse genre => In Good Company (2000 film)')\n",
      "((3401, 200018, 15483, 200019, 3403), 'Dances with Wolves => genre => Drama => Inverse genre => Dancing at Lughnasa (film)')\n"
     ]
    }
   ],
   "source": [
    "sample_user = 96699\n",
    "test_reasoning(sample_user)"
   ]
  },
  {
   "cell_type": "markdown",
   "metadata": {},
   "source": [
    "# Note:\n",
    "apparently those ripple-hop tail, not necesarrely have high score when come into prediction ("
   ]
  },
  {
   "cell_type": "code",
   "execution_count": null,
   "metadata": {},
   "outputs": [],
   "source": [
    "suggestion = get_top_suggestion(96699, 10000)\n",
    "some_tails = [13240, 7159, 3777, 14994, 12366, 2797, 602, 7191, 6741, 3403]\n",
    "\n",
    "for score, item_id in suggestion:\n",
    "    if item_id in some_tails:\n",
    "        print(score, item_id)"
   ]
  },
  {
   "cell_type": "markdown",
   "metadata": {},
   "source": [
    "0.3980206685321706 3777 <br>\n",
    "0.10237747024394224 6741 <br>\n",
    "0.06157134852737707 12366 <br>\n",
    "0.008790826381946485 3403 <br>\n",
    "0.0009740564897270111 2797 <br>\n",
    "0.000362757349141969 602 <br>"
   ]
  },
  {
   "cell_type": "markdown",
   "metadata": {},
   "source": [
    "so it rely on the randomness when creating ripple set as well,, if wrongly sampled, the user preferences become distorted"
   ]
  },
  {
   "cell_type": "code",
   "execution_count": null,
   "metadata": {},
   "outputs": [],
   "source": []
  }
 ],
 "metadata": {
  "kernelspec": {
   "display_name": "Python 3",
   "language": "python",
   "name": "python3"
  },
  "language_info": {
   "codemirror_mode": {
    "name": "ipython",
    "version": 3
   },
   "file_extension": ".py",
   "mimetype": "text/x-python",
   "name": "python",
   "nbconvert_exporter": "python",
   "pygments_lexer": "ipython3",
   "version": "3.5.2"
  }
 },
 "nbformat": 4,
 "nbformat_minor": 2
}
